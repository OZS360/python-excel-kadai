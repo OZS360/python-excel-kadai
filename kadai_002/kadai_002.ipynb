{
  "nbformat": 4,
  "nbformat_minor": 0,
  "metadata": {
    "colab": {
      "provenance": []
    },
    "kernelspec": {
      "name": "python3",
      "display_name": "Python 3"
    },
    "language_info": {
      "name": "python"
    }
  },
  "cells": [
    {
      "cell_type": "code",
      "execution_count": 1,
      "metadata": {
        "id": "8uWZmizNLe-6"
      },
      "outputs": [],
      "source": [
        "import pandas as pd\n",
        "\n",
        "df = pd.DataFrame({\n",
        "    '日付': ['2023-05-17', '2023-05-18', '2023-05-19', '2023-05-20', '2023-05-21'],\n",
        "    '社員名': ['山田', '佐藤', '鈴木', '田中', '高橋'],\n",
        "    '売上': [100, 200, 150, 300, 250],\n",
        "    '部門': ['メーカー', '代理店', 'メーカー', '商社', '代理店']\n",
        "})\n",
        "\n",
        "mean_sales = df['平均売上'] = df['売上'].mean()\n",
        "\n",
        "def performance(sales):\n",
        "    result = '';\n",
        "    if sales >= mean_sales + 50:\n",
        "        return 'A';\n",
        "    elif  sales >= mean_sales:\n",
        "        return 'B';\n",
        "    else:\n",
        "        return 'C';\n",
        "\n",
        "df['業績ランク'] = df['売上'].apply(performance)\n",
        "\n",
        "writer = pd.ExcelWriter('業績.xlsx')\n",
        "\n",
        "df.to_excel(writer, sheet_name='Sheet1', index=False)\n",
        "\n",
        "writer.close()"
      ]
    }
  ]
}